{
 "cells": [
  {
   "cell_type": "code",
   "execution_count": 1,
   "metadata": {},
   "outputs": [],
   "source": [
    "import pandas as pd\n",
    "from textblob import TextBlob"
   ]
  },
  {
   "cell_type": "code",
   "execution_count": 2,
   "metadata": {},
   "outputs": [],
   "source": [
    "xls = pd.ExcelFile('Comments on the survey-2.xlsx')\n",
    "df1 = pd.read_excel(xls, 'Open Comments')"
   ]
  },
  {
   "cell_type": "code",
   "execution_count": 7,
   "metadata": {},
   "outputs": [
    {
     "data": {
      "text/html": [
       "<div>\n",
       "<style scoped>\n",
       "    .dataframe tbody tr th:only-of-type {\n",
       "        vertical-align: middle;\n",
       "    }\n",
       "\n",
       "    .dataframe tbody tr th {\n",
       "        vertical-align: top;\n",
       "    }\n",
       "\n",
       "    .dataframe thead th {\n",
       "        text-align: right;\n",
       "    }\n",
       "</style>\n",
       "<table border=\"1\" class=\"dataframe\">\n",
       "  <thead>\n",
       "    <tr style=\"text-align: right;\">\n",
       "      <th></th>\n",
       "      <th>Decisions</th>\n",
       "      <th>Actions</th>\n",
       "      <th>Dan's Notes</th>\n",
       "      <th>Open Comments</th>\n",
       "      <th>Who</th>\n",
       "      <th>Comments on comments</th>\n",
       "      <th>Slow Ways Actions</th>\n",
       "    </tr>\n",
       "  </thead>\n",
       "  <tbody>\n",
       "    <tr>\n",
       "      <th>0</th>\n",
       "      <td>Lower priority</td>\n",
       "      <td>Make this</td>\n",
       "      <td>NaN</td>\n",
       "      <td>Create a photo sheet that gives visual example...</td>\n",
       "      <td>Dan</td>\n",
       "      <td>NaN</td>\n",
       "      <td>NaN</td>\n",
       "    </tr>\n",
       "    <tr>\n",
       "      <th>1</th>\n",
       "      <td>Easy fix.</td>\n",
       "      <td>Done</td>\n",
       "      <td>Fully describe what \"acceptable\" means</td>\n",
       "      <td>Acceptable and unacceptable walking on roads a...</td>\n",
       "      <td>J</td>\n",
       "      <td>Andrew M - Agree (I think this could be includ...</td>\n",
       "      <td>NaN</td>\n",
       "    </tr>\n",
       "    <tr>\n",
       "      <th>2</th>\n",
       "      <td>Check</td>\n",
       "      <td>Done</td>\n",
       "      <td>NaN</td>\n",
       "      <td>Accessibility grade – Remove – with the except...</td>\n",
       "      <td>J</td>\n",
       "      <td>NaN</td>\n",
       "      <td>Potentially rename the grade (to restrictions ...</td>\n",
       "    </tr>\n",
       "    <tr>\n",
       "      <th>3</th>\n",
       "      <td>Easy fix</td>\n",
       "      <td>Done</td>\n",
       "      <td>NaN</td>\n",
       "      <td>Climbing over fences and walls  - similar to a...</td>\n",
       "      <td>J</td>\n",
       "      <td>NaN</td>\n",
       "      <td>NaN</td>\n",
       "    </tr>\n",
       "    <tr>\n",
       "      <th>4</th>\n",
       "      <td>Easy fix.</td>\n",
       "      <td>Done</td>\n",
       "      <td>It's characters!</td>\n",
       "      <td>Describe the route - a  maximum word limit of ...</td>\n",
       "      <td>J</td>\n",
       "      <td>NaN</td>\n",
       "      <td>NaN</td>\n",
       "    </tr>\n",
       "  </tbody>\n",
       "</table>\n",
       "</div>"
      ],
      "text/plain": [
       "        Decisions    Actions                             Dan's Notes  \\\n",
       "0  Lower priority  Make this                                     NaN   \n",
       "1       Easy fix.       Done  Fully describe what \"acceptable\" means   \n",
       "2           Check       Done                                     NaN   \n",
       "3        Easy fix       Done                                     NaN   \n",
       "4       Easy fix.       Done                        It's characters!   \n",
       "\n",
       "                                       Open Comments  Who  \\\n",
       "0  Create a photo sheet that gives visual example...  Dan   \n",
       "1  Acceptable and unacceptable walking on roads a...    J   \n",
       "2  Accessibility grade – Remove – with the except...    J   \n",
       "3  Climbing over fences and walls  - similar to a...    J   \n",
       "4  Describe the route - a  maximum word limit of ...    J   \n",
       "\n",
       "                                Comments on comments  \\\n",
       "0                                                NaN   \n",
       "1  Andrew M - Agree (I think this could be includ...   \n",
       "2                                                NaN   \n",
       "3                                                NaN   \n",
       "4                                                NaN   \n",
       "\n",
       "                                   Slow Ways Actions  \n",
       "0                                                NaN  \n",
       "1                                                NaN  \n",
       "2  Potentially rename the grade (to restrictions ...  \n",
       "3                                                NaN  \n",
       "4                                                NaN  "
      ]
     },
     "execution_count": 7,
     "metadata": {},
     "output_type": "execute_result"
    }
   ],
   "source": [
    "df1.head()"
   ]
  },
  {
   "cell_type": "code",
   "execution_count": null,
   "metadata": {},
   "outputs": [],
   "source": []
  }
 ],
 "metadata": {
  "kernelspec": {
   "display_name": "Python 3",
   "language": "python",
   "name": "python3"
  },
  "language_info": {
   "codemirror_mode": {
    "name": "ipython",
    "version": 3
   },
   "file_extension": ".py",
   "mimetype": "text/x-python",
   "name": "python",
   "nbconvert_exporter": "python",
   "pygments_lexer": "ipython3",
   "version": "3.8.5"
  }
 },
 "nbformat": 4,
 "nbformat_minor": 4
}
